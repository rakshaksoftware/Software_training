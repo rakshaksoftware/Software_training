{
  "nbformat": 4,
  "nbformat_minor": 0,
  "metadata": {
    "colab": {
      "provenance": []
    },
    "kernelspec": {
      "name": "python3",
      "display_name": "Python 3"
    },
    "language_info": {
      "name": "python"
    }
  },
  "cells": [
    {
      "cell_type": "markdown",
      "source": [
        "# Section 1: An Informal Introduction to Python\n",
        "\n",
        "\n",
        "Python is a high-level programming language known for its simplicity and readability.\n",
        "It allows you to express concepts in fewer lines of code compared to other languages.\n",
        "\n",
        "## Using Python as a Calculator:\n",
        "You can use Python as a simple calculator for performing arithmetic operations.\n"
      ],
      "metadata": {
        "id": "vPnmk4N8VJXd"
      }
    },
    {
      "cell_type": "code",
      "source": [
        "# Example code:\n",
        "# Addition\n",
        "print(5 + 3)\n",
        "\n",
        "# Subtraction\n",
        "print(7 - 2)\n",
        "\n",
        "# Multiplication\n",
        "print(4 * 6)\n",
        "\n",
        "# Division\n",
        "print(10 / 2)\n",
        "\n",
        "# Exponentiation\n",
        "print(2 ** 3)\n",
        "\n"
      ],
      "metadata": {
        "id": "cpT2fZ40rYiA",
        "colab": {
          "base_uri": "https://localhost:8080/"
        },
        "outputId": "4acce0e2-7743-4354-d70d-75ae3256d8fa"
      },
      "execution_count": null,
      "outputs": [
        {
          "output_type": "stream",
          "name": "stdout",
          "text": [
            "8\n",
            "5\n",
            "24\n",
            "5.0\n",
            "8\n"
          ]
        }
      ]
    },
    {
      "cell_type": "markdown",
      "source": [
        "# Section 2: More Control Flow Tools\n",
        "\n",
        "\n",
        "Control flow tools allow you to make decisions and repeat actions in Python programs.\n",
        "\n",
        "## 2.1 if Statements:\n",
        "The if statement is used for conditional execution of code.\n"
      ],
      "metadata": {
        "id": "Nf5T-je1rqgZ"
      }
    },
    {
      "cell_type": "code",
      "source": [
        "\n",
        "# Example code:\n",
        "x = 4\n",
        "if x > 5:\n",
        "    print(\"x is greater than 5\")\n",
        "elif x < 3:\n",
        "    print(\"x is less than 3 \")\n",
        "else:\n",
        "    print(\"none of the above\")"
      ],
      "metadata": {
        "id": "W24KtgJ9r0cC"
      },
      "execution_count": null,
      "outputs": []
    },
    {
      "cell_type": "markdown",
      "source": [
        "## 2.2 for Statements:\n",
        "The for statement is used for iterating over the elements of a sequence.\n"
      ],
      "metadata": {
        "id": "H_-nSeoDr2zX"
      }
    },
    {
      "cell_type": "code",
      "source": [
        "# Example code:\n",
        "fruits = [\"apple\", \"banana\", \"cherry\"]\n",
        "for fruit in fruits:\n",
        "    print(fruit)\n"
      ],
      "metadata": {
        "id": "rZmQjkIbr9nZ",
        "colab": {
          "base_uri": "https://localhost:8080/"
        },
        "outputId": "582d2502-44fb-4667-e83a-3b356b4f6653"
      },
      "execution_count": null,
      "outputs": [
        {
          "output_type": "stream",
          "name": "stdout",
          "text": [
            "apple\n",
            "banana\n",
            "cherry\n"
          ]
        }
      ]
    },
    {
      "cell_type": "markdown",
      "source": [
        "## 2.3 The range() Function:\n",
        "The range() function generates a sequence of numbers.\n"
      ],
      "metadata": {
        "id": "zIQt7iNSr_7N"
      }
    },
    {
      "cell_type": "code",
      "source": [
        "# Example code:\n",
        "for i in range(5):\n",
        "    print(i)\n"
      ],
      "metadata": {
        "id": "yOqsmmK1sHIy",
        "colab": {
          "base_uri": "https://localhost:8080/"
        },
        "outputId": "2908898e-32cc-4a8b-cf6a-e7c622240e71"
      },
      "execution_count": null,
      "outputs": [
        {
          "output_type": "stream",
          "name": "stdout",
          "text": [
            "0\n",
            "1\n",
            "2\n",
            "3\n",
            "4\n"
          ]
        }
      ]
    },
    {
      "cell_type": "markdown",
      "source": [
        "## 2.4 break and continue Statements, and else Clauses on Loops:\n",
        "break and continue are used inside loops to alter their normal behaviour.\n"
      ],
      "metadata": {
        "id": "2UBYXZ0UsMTI"
      }
    },
    {
      "cell_type": "code",
      "source": [
        "# Example code:\n",
        "for i in range(10):\n",
        "    if i == 5:\n",
        "        break\n",
        "    print(i)\n"
      ],
      "metadata": {
        "id": "UaWLmPaHsRjE"
      },
      "execution_count": null,
      "outputs": []
    },
    {
      "cell_type": "markdown",
      "source": [
        "## 2.5 pass Statements:\n",
        "pass is a null operation, useful as a placeholder when no action is required.\n"
      ],
      "metadata": {
        "id": "vGon707Gsdw7"
      }
    },
    {
      "cell_type": "code",
      "source": [
        "# Example code:\n",
        "for i in range(3):\n",
        "    pass\n"
      ],
      "metadata": {
        "id": "pD_xcraEsfK8"
      },
      "execution_count": null,
      "outputs": []
    },
    {
      "cell_type": "markdown",
      "source": [
        "## 2.6 Defining Functions:\n",
        "Functions are blocks of reusable code that perform a specific task.\n"
      ],
      "metadata": {
        "id": "k7WVRmTxsfdd"
      }
    },
    {
      "cell_type": "code",
      "source": [
        "# Example code:\n",
        "def greet():\n",
        "    print(\"Hello, world!\")\n",
        "\n",
        "greet()  # Call the function\n",
        "\n",
        "\n",
        "\n",
        "\n",
        "# Function with parameter value\n",
        "\n",
        "\n",
        "def calculate_area(radius):\n",
        "    pi = 3.14159\n",
        "    area = pi * radius ** 2\n",
        "    return area\n",
        "\n",
        "\n",
        "\n",
        "# Function with default parameter value\n",
        "def greet2(name=\"Guest\"):\n",
        "    print(\"Hello,\", name)\n",
        "\n",
        "greet2()  # Output: Hello, Guest\n",
        "greet2(\"John\")  # Output: Hello, John\n"
      ],
      "metadata": {
        "id": "IKc4OGqisq0v",
        "colab": {
          "base_uri": "https://localhost:8080/"
        },
        "outputId": "ba271ecf-fd80-43ff-9a98-9a97d8c26c40"
      },
      "execution_count": null,
      "outputs": [
        {
          "output_type": "stream",
          "name": "stdout",
          "text": [
            "Hello, world!\n",
            "Hello, Guest\n",
            "Hello, John\n"
          ]
        }
      ]
    },
    {
      "cell_type": "markdown",
      "source": [
        "#Section 3: Data Structures\n",
        "\n",
        "Data structures are fundamental components of programming languages that allow you to organize and manipulate data efficiently."
      ],
      "metadata": {
        "id": "JEKBQdxgvAAY"
      }
    },
    {
      "cell_type": "markdown",
      "source": [
        "##3.1 Lists"
      ],
      "metadata": {
        "id": "cR-64fZEyHTh"
      }
    },
    {
      "cell_type": "code",
      "source": [
        "#Description: Lists are mutable sequences, allowing you to store and manipulate collections of items.\n",
        "#Importance: Lists are versatile and commonly used data structures in Python for storing and processing data.\n",
        "\n",
        "\n",
        "# Creating a list\n",
        "my_list = [1, 2, 3, 4, 5]\n",
        "\n",
        "# Accessing elements of a list\n",
        "print(my_list[0])  # Output: 1\n",
        "\n",
        "# Modifying elements of a list\n",
        "my_list[0] = 10\n",
        "print(my_list)  # Output: [10, 2, 3, 4, 5]\n",
        "\n",
        "# List slicing\n",
        "print(my_list[1:4])  # Output: [2, 3, 4]\n",
        "\n",
        "# Appending an element\n",
        "my_list.append(6)\n",
        "print(my_list)  # Output: [10, 2, 3, 4, 5, 6]\n",
        "\n",
        "# Removing an element by value\n",
        "my_list.remove(3)\n",
        "print(my_list)  # Output: [10, 2, 4, 5, 6]\n",
        "\n",
        "# Extending a list\n",
        "my_list.extend([7, 8, 9])\n",
        "print(my_list)  # Output: [10, 2, 4, 5, 6, 7, 8, 9]\n",
        "\n",
        "# Reversing a list\n",
        "my_list.reverse()\n",
        "print(my_list)  # Output: [9, 8, 7, 6, 5, 4, 2, 10]\n",
        "\n",
        "# Sorting a list\n",
        "my_list.sort()\n",
        "print(my_list)  # Output: [2, 4, 5, 6, 7, 8, 9, 10]\n",
        "\n",
        "# Deleting elements from a list\n",
        "my_list = [1, 2, 3, 4, 5]\n",
        "del my_list[2]\n",
        "print(my_list)  # Output: [1, 2, 4, 5]\n",
        "\n",
        "# Deleting a slice of elements\n",
        "del my_list[1:3]\n",
        "print(my_list)  # Output: [1, 5]\n"
      ],
      "metadata": {
        "id": "0YVZy8NcvHhp",
        "colab": {
          "base_uri": "https://localhost:8080/"
        },
        "outputId": "40586f5f-9e51-478b-e014-cde8e6441d63"
      },
      "execution_count": null,
      "outputs": [
        {
          "output_type": "stream",
          "name": "stdout",
          "text": [
            "1\n",
            "[10, 2, 3, 4, 5]\n",
            "[2, 3, 4]\n",
            "[10, 2, 3, 4, 5, 6]\n",
            "[10, 2, 4, 5, 6]\n",
            "[10, 2, 4, 5, 6, 7, 8, 9]\n",
            "[9, 8, 7, 6, 5, 4, 2, 10]\n",
            "[2, 4, 5, 6, 7, 8, 9, 10]\n",
            "[1, 2, 4, 5]\n",
            "[1, 5]\n"
          ]
        }
      ]
    },
    {
      "cell_type": "markdown",
      "source": [
        "##3.2 Tuples"
      ],
      "metadata": {
        "id": "eB_QtyrkyMCJ"
      }
    },
    {
      "cell_type": "code",
      "source": [
        "#Description: Tuples are immutable sequences, often used to store related data together.\n",
        "#Importance: Tuples provide a way to group multiple items into a single immutable collection.\n",
        "\n",
        "# Creating a tuple\n",
        "my_tuple = (1, 2, 3)\n",
        "\n",
        "# Accessing elements of a tuple\n",
        "print(my_tuple[0])  # Output: 1\n",
        "\n",
        "# Unpacking a tuple\n",
        "x, y, z = my_tuple\n",
        "print(x, y, z)  # Output: 1 2 3\n"
      ],
      "metadata": {
        "id": "_uUvjkR_vNhw"
      },
      "execution_count": null,
      "outputs": []
    },
    {
      "cell_type": "markdown",
      "source": [
        "##3.3 Sets"
      ],
      "metadata": {
        "id": "2CmpyLmkyOiW"
      }
    },
    {
      "cell_type": "code",
      "source": [
        "#Sets are unordered collections of unique elements.\n",
        "#Importance: Sets are useful for removing duplicate elements and performing set operations such as union, intersection, and difference\n",
        "\n",
        "# Creating a set\n",
        "my_set = {1, 2, 3, 3, 4}\n",
        "print(my_set)  # Output: {1, 2, 3, 4}\n",
        "\n",
        "# Adding elements to a set\n",
        "my_set.add(5)\n",
        "print(my_set)  # Output: {1, 2, 3, 4, 5}\n",
        "\n",
        "# Removing an element from a set\n",
        "my_set.remove(3)\n",
        "print(my_set)  # Output: {1, 2, 4, 5}\n"
      ],
      "metadata": {
        "id": "Oc_pRpgxvbqL"
      },
      "execution_count": null,
      "outputs": []
    },
    {
      "cell_type": "markdown",
      "source": [
        "##3.4 Dictionaries"
      ],
      "metadata": {
        "id": "HcFh7eYyyQiu"
      }
    },
    {
      "cell_type": "code",
      "source": [
        "#Description: Dictionaries are collections of key-value pairs.\n",
        "#Importance: Dictionaries provide a way to associate keys with values, allowing efficient lookup and storage of data.\n",
        "\n",
        "# Creating a dictionary\n",
        "my_dict = {'name': 'John', 'age': 30}\n",
        "\n",
        "# Accessing values using keys\n",
        "print(my_dict['name'])  # Output: John\n",
        "\n",
        "# Adding a new key-value pair\n",
        "my_dict['city'] = 'New York'\n",
        "print(my_dict)  # Output: {'name': 'John', 'age': 30, 'city': 'New York'}\n",
        "\n",
        "# Removing a key-value pair\n",
        "del my_dict['age']\n",
        "print(my_dict)  # Output: {'name': 'John', 'city': 'New York'}\n",
        "\n",
        "my_dict2 = dict(name=\"John\", age=30)\n",
        "\n",
        "print(my_dict2 )  # Output: {'name': 'John', 'age': 30}\n",
        "\n",
        "print(my_dict2.keys())  # Output: dict_keys(['name', 'age'])\n",
        "\n",
        "print(len(my_dict2))  # Output: 2\n",
        "\n",
        "print(list(my_dict2.values()))\n",
        "print(my_dict2)  # Output: dict_values(['John', 30])\n",
        "\n",
        "print(my_dict2.get('name'))  # Output: John\n",
        "\n",
        "print(my_dict2.get('city', 'Unknown'))  # Output: Unknown (default value set by us)\n",
        "\n",
        "my_dict2.update({'city': 'New York', 'age': 35})\n",
        "print(my_dict2)  # Output: {'name': 'John', 'age': 35, 'city': 'New York'}\n",
        "\n",
        "age = my_dict2.pop('age')\n",
        "print(age)  # Output: 35\n",
        "\n",
        "print(my_dict2)\n",
        "\n"
      ],
      "metadata": {
        "id": "FaS3NA7RvnJ9",
        "colab": {
          "base_uri": "https://localhost:8080/"
        },
        "outputId": "4967ab78-1d2a-4402-afee-33246548d612"
      },
      "execution_count": null,
      "outputs": [
        {
          "output_type": "stream",
          "name": "stdout",
          "text": [
            "John\n",
            "{'name': 'John', 'age': 30, 'city': 'New York'}\n",
            "{'name': 'John', 'city': 'New York'}\n",
            "{'name': 'John', 'age': 30}\n",
            "dict_keys(['name', 'age'])\n",
            "2\n",
            "['John', 30]\n",
            "{'name': 'John', 'age': 30}\n",
            "John\n",
            "Unknown\n",
            "{'name': 'John', 'age': 35, 'city': 'New York'}\n",
            "35\n",
            "{'name': 'John', 'city': 'New York'}\n"
          ]
        }
      ]
    },
    {
      "cell_type": "code",
      "source": [
        "print(type(list(my_dict2.values())))\n",
        "print(type(my_dict2.values()))\n",
        "my_dict2"
      ],
      "metadata": {
        "colab": {
          "base_uri": "https://localhost:8080/"
        },
        "id": "eEYPZr1w4EnO",
        "outputId": "531b37d8-eaf2-4d2d-fdd0-d303daba2a90"
      },
      "execution_count": null,
      "outputs": [
        {
          "output_type": "stream",
          "name": "stdout",
          "text": [
            "<class 'list'>\n",
            "<class 'dict_values'>\n"
          ]
        },
        {
          "output_type": "execute_result",
          "data": {
            "text/plain": [
              "{'name': 'John', 'city': 'New York'}"
            ]
          },
          "metadata": {},
          "execution_count": 55
        }
      ]
    },
    {
      "cell_type": "markdown",
      "source": [
        "##3.5 Some more operations"
      ],
      "metadata": {
        "id": "D_i6QMH-yTx2"
      }
    },
    {
      "cell_type": "code",
      "source": [
        "# Iterating over a list\n",
        "for item in my_list:\n",
        "    print(item)\n",
        "\n",
        "# Iterating over a dictionary\n",
        "for key, value in my_dict.items():\n",
        "    print(key, value)\n",
        "\n",
        "# Conditional expression\n",
        "x = 5\n",
        "result = \"Even\" if x % 2 == 0 else \"Odd\"\n",
        "print(result)  # Output: Odd\n",
        "\n",
        "# Comparing sequences\n",
        "list1 = [1, 2, 3]\n",
        "list2 = [1, 2, 3]\n",
        "print(list1 == list2)  # Output: True\n",
        "\n",
        "# Comparing dictionaries\n",
        "dict1 = {'a': 1, 'b': 2}\n",
        "dict2 = {'b': 2, 'a': 1}\n",
        "print(dict1 == dict2)  # Output: True\n"
      ],
      "metadata": {
        "id": "0GQlXxSavt1N",
        "colab": {
          "base_uri": "https://localhost:8080/"
        },
        "outputId": "a3a06ff9-cdcd-44c1-fdee-a12605cb4bc1"
      },
      "execution_count": null,
      "outputs": [
        {
          "output_type": "stream",
          "name": "stdout",
          "text": [
            "1\n",
            "5\n",
            "name John\n",
            "city New York\n",
            "Odd\n",
            "True\n",
            "True\n"
          ]
        }
      ]
    },
    {
      "cell_type": "markdown",
      "source": [
        "#Section 4: Modules\n",
        "\n",
        "Modules in Python are files containing Python code, which can define functions, classes, and variables. They allow you to organize your Python code into reusable components."
      ],
      "metadata": {
        "id": "begYRa5FyaS6"
      }
    },
    {
      "cell_type": "code",
      "source": [
        "# math_operations.py\n",
        "\n",
        "def add(a, b):\n",
        "    return a + b\n",
        "\n",
        "def subtract(a, b):\n",
        "    return a - b\n"
      ],
      "metadata": {
        "id": "GPt9ywboyvtL"
      },
      "execution_count": null,
      "outputs": []
    },
    {
      "cell_type": "code",
      "source": [
        "# main.py\n",
        "\n",
        "import math_operations\n",
        "\n",
        "result = math_operations.add(5, 3)\n",
        "print(result)  # Output: 8\n",
        "\n",
        "result = math_operations.subtract(10, 4)\n",
        "print(result)  # Output: 6\n"
      ],
      "metadata": {
        "id": "4P8_mZHryx9j"
      },
      "execution_count": null,
      "outputs": []
    },
    {
      "cell_type": "markdown",
      "source": [
        "## Standard Modules:\n",
        " Standard modules are modules provided by Python itself, offering a wide range of functionalities."
      ],
      "metadata": {
        "id": "VD7jaL2Gy2Yy"
      }
    },
    {
      "cell_type": "code",
      "source": [
        "import random\n",
        "\n",
        "# Generate a random integer between 1 and 100\n",
        "random_number = random.randint(1, 100)\n",
        "print(random_number)\n",
        "print(dir(random_number))\n",
        "print(dir())\n",
        "\n",
        "\n"
      ],
      "metadata": {
        "id": "6olY6jyby2JQ",
        "colab": {
          "base_uri": "https://localhost:8080/"
        },
        "outputId": "de85f13d-81fd-4667-a98b-93c428e8f565"
      },
      "execution_count": null,
      "outputs": [
        {
          "output_type": "stream",
          "name": "stdout",
          "text": [
            "17\n",
            "['__abs__', '__add__', '__and__', '__bool__', '__ceil__', '__class__', '__delattr__', '__dir__', '__divmod__', '__doc__', '__eq__', '__float__', '__floor__', '__floordiv__', '__format__', '__ge__', '__getattribute__', '__getnewargs__', '__gt__', '__hash__', '__index__', '__init__', '__init_subclass__', '__int__', '__invert__', '__le__', '__lshift__', '__lt__', '__mod__', '__mul__', '__ne__', '__neg__', '__new__', '__or__', '__pos__', '__pow__', '__radd__', '__rand__', '__rdivmod__', '__reduce__', '__reduce_ex__', '__repr__', '__rfloordiv__', '__rlshift__', '__rmod__', '__rmul__', '__ror__', '__round__', '__rpow__', '__rrshift__', '__rshift__', '__rsub__', '__rtruediv__', '__rxor__', '__setattr__', '__sizeof__', '__str__', '__sub__', '__subclasshook__', '__truediv__', '__trunc__', '__xor__', 'as_integer_ratio', 'bit_count', 'bit_length', 'conjugate', 'denominator', 'from_bytes', 'imag', 'numerator', 'real', 'to_bytes']\n",
            "['In', 'Out', '_', '_10', '_11', '__', '___', '__builtin__', '__builtins__', '__doc__', '__loader__', '__name__', '__package__', '__spec__', '_dh', '_i', '_i1', '_i10', '_i11', '_i12', '_i13', '_i14', '_i15', '_i16', '_i17', '_i2', '_i3', '_i4', '_i5', '_i6', '_i7', '_i8', '_i9', '_ih', '_ii', '_iii', '_oh', 'age', 'calculate_area', 'dict1', 'dict2', 'exit', 'fruit', 'fruits', 'get_ipython', 'greet', 'greet2', 'i', 'item', 'key', 'list1', 'list2', 'math', 'my_dict', 'my_dict2', 'my_list', 'quit', 'random', 'random_number', 'result', 'value', 'x']\n"
          ]
        }
      ]
    },
    {
      "cell_type": "code",
      "source": [
        "import math\n",
        "\n",
        "# List all names defined in the math module\n",
        "print(dir(math))\n"
      ],
      "metadata": {
        "id": "3QIHLGSWzC6Z",
        "colab": {
          "base_uri": "https://localhost:8080/"
        },
        "outputId": "c68de5fb-3527-450d-88e3-46806d966732"
      },
      "execution_count": null,
      "outputs": [
        {
          "output_type": "stream",
          "name": "stdout",
          "text": [
            "['__doc__', '__loader__', '__name__', '__package__', '__spec__', 'acos', 'acosh', 'asin', 'asinh', 'atan', 'atan2', 'atanh', 'ceil', 'comb', 'copysign', 'cos', 'cosh', 'degrees', 'dist', 'e', 'erf', 'erfc', 'exp', 'expm1', 'fabs', 'factorial', 'floor', 'fmod', 'frexp', 'fsum', 'gamma', 'gcd', 'hypot', 'inf', 'isclose', 'isfinite', 'isinf', 'isnan', 'isqrt', 'lcm', 'ldexp', 'lgamma', 'log', 'log10', 'log1p', 'log2', 'modf', 'nan', 'nextafter', 'perm', 'pi', 'pow', 'prod', 'radians', 'remainder', 'sin', 'sinh', 'sqrt', 'tan', 'tanh', 'tau', 'trunc', 'ulp']\n"
          ]
        }
      ]
    },
    {
      "cell_type": "code",
      "source": [
        "import numpy as np\n",
        "\n",
        "# Create a NumPy array\n",
        "arr = np.array([1, 2, 3, 4, 5])\n",
        "\n",
        "# Perform operations on the array\n",
        "print(np.mean(arr))    # Output: 3.0\n",
        "print(np.median(arr))  # Output: 3.0\n"
      ],
      "metadata": {
        "id": "mz8JE-G-zMUL",
        "colab": {
          "base_uri": "https://localhost:8080/"
        },
        "outputId": "accfb014-787f-43ad-d54d-f30a98191c21"
      },
      "execution_count": null,
      "outputs": [
        {
          "output_type": "stream",
          "name": "stdout",
          "text": [
            "3.0\n",
            "3.0\n"
          ]
        }
      ]
    },
    {
      "cell_type": "code",
      "source": [
        "import pandas as pd\n",
        "\n",
        "# Create a DataFrame\n",
        "data = {'Name': ['John', 'Anna', 'Peter', 'Linda'],\n",
        "        'Age': [28, 35, 45, 32],\n",
        "        'City': ['New York', 'Paris', 'London', 'Berlin']}\n",
        "df = pd.DataFrame(data)\n",
        "\n",
        "# Display the DataFrame\n",
        "print(df)\n"
      ],
      "metadata": {
        "id": "C1De4EDhzPBZ",
        "colab": {
          "base_uri": "https://localhost:8080/"
        },
        "outputId": "7b1f8614-81c9-4564-85f7-b7756b4bd4e9"
      },
      "execution_count": null,
      "outputs": [
        {
          "output_type": "stream",
          "name": "stdout",
          "text": [
            "    Name  Age      City\n",
            "0   John   28  New York\n",
            "1   Anna   35     Paris\n",
            "2  Peter   45    London\n",
            "3  Linda   32    Berlin\n"
          ]
        }
      ]
    },
    {
      "cell_type": "code",
      "source": [
        "import matplotlib.pyplot as plt\n",
        "\n",
        "# Create sample data\n",
        "x = np.linspace(0, 10, 100)\n",
        "y = np.sin(x)\n",
        "\n",
        "# Plot the data\n",
        "plt.plot(x, y)\n",
        "plt.xlabel('x')\n",
        "plt.ylabel('sin(x)')\n",
        "plt.title('Sine Wave')\n",
        "plt.show()\n"
      ],
      "metadata": {
        "id": "pHZ-9ee1zQsq",
        "colab": {
          "base_uri": "https://localhost:8080/",
          "height": 472
        },
        "outputId": "7314fdc8-a61a-48ed-9432-9ddcb520dc05"
      },
      "execution_count": null,
      "outputs": [
        {
          "output_type": "display_data",
          "data": {
            "text/plain": [
              "<Figure size 640x480 with 1 Axes>"
            ],
            "image/png": "[encoded data removed]"
          },
          "metadata": {}
        }
      ]
    },
    {
      "cell_type": "markdown",
      "source": [
        "## Packages:\n",
        "\n",
        "Packages are namespaces containing multiple modules and sub-packages."
      ],
      "metadata": {
        "id": "7lbb1m28zgsg"
      }
    },
    {
      "cell_type": "code",
      "source": [
        "my_package/\n",
        "    __init__.py\n",
        "    module1.py\n",
        "    module2.py\n"
      ],
      "metadata": {
        "id": "On2k9EIPzpDH"
      },
      "execution_count": null,
      "outputs": []
    },
    {
      "cell_type": "code",
      "source": [
        "from my_package import module1, module2\n",
        "\n",
        "module1.some_function()\n",
        "module2.another_function()\n"
      ],
      "metadata": {
        "id": "XJov00W2zrqc"
      },
      "execution_count": null,
      "outputs": []
    },
    {
      "cell_type": "markdown",
      "source": [
        "# Section 5 :Some Common Modules and Packages You Will Have to Use:"
      ],
      "metadata": {
        "id": "wl1UrzaGz0WH"
      }
    },
    {
      "cell_type": "code",
      "source": [
        "#scikit-learn: Provides simple and efficient tools for data analysis\n",
        "\n",
        "from sklearn.linear_model import LinearRegression\n",
        "from sklearn.datasets import fetch_california_housing\n",
        "\n",
        "# Load the California housing dataset\n",
        "california = fetch_california_housing()\n",
        "print(california)\n",
        "\n",
        "# Access data and target\n",
        "X, y = california.data, california.target\n",
        "\n",
        "# Create and train a linear regression model\n",
        "model = LinearRegression()\n",
        "model.fit(X, y)\n"
      ],
      "metadata": {
        "id": "NB349LcUz-1S",
        "colab": {
          "base_uri": "https://localhost:8080/",
          "height": 319
        },
        "outputId": "3d6679e3-5650-4a44-fcd3-132772f616a3"
      },
      "execution_count": null,
      "outputs": [
        {
          "output_type": "stream",
          "name": "stdout",
          "text": [
            "{'data': array([[   8.3252    ,   41.        ,    6.98412698, ...,    2.55555556,\n",
            "          37.88      , -122.23      ],\n",
            "       [   8.3014    ,   21.        ,    6.23813708, ...,    2.10984183,\n",
            "          37.86      , -122.22      ],\n",
            "       [   7.2574    ,   52.        ,    8.28813559, ...,    2.80225989,\n",
            "          37.85      , -122.24      ],\n",
            "       ...,\n",
            "       [   1.7       ,   17.        ,    5.20554273, ...,    2.3256351 ,\n",
            "          39.43      , -121.22      ],\n",
            "       [   1.8672    ,   18.        ,    5.32951289, ...,    2.12320917,\n",
            "          39.43      , -121.32      ],\n",
            "       [   2.3886    ,   16.        ,    5.25471698, ...,    2.61698113,\n",
            "          39.37      , -121.24      ]]), 'target': array([4.526, 3.585, 3.521, ..., 0.923, 0.847, 0.894]), 'frame': None, 'target_names': ['MedHouseVal'], 'feature_names': ['MedInc', 'HouseAge', 'AveRooms', 'AveBedrms', 'Population', 'AveOccup', 'Latitude', 'Longitude'], 'DESCR': '.. _california_housing_dataset:\\n\\nCalifornia Housing dataset\\n--------------------------\\n\\n**Data Set Characteristics:**\\n\\n    :Number of Instances: 20640\\n\\n    :Number of Attributes: 8 numeric, predictive attributes and the target\\n\\n    :Attribute Information:\\n        - MedInc        median income in block group\\n        - HouseAge      median house age in block group\\n        - AveRooms      average number of rooms per household\\n        - AveBedrms     average number of bedrooms per household\\n        - Population    block group population\\n        - AveOccup      average number of household members\\n        - Latitude      block group latitude\\n        - Longitude     block group longitude\\n\\n    :Missing Attribute Values: None\\n\\nThis dataset was obtained from the StatLib repository.\\nhttps://www.dcc.fc.up.pt/~ltorgo/Regression/cal_housing.html\\n\\nThe target variable is the median house value for California districts,\\nexpressed in hundreds of thousands of dollars ($100,000).\\n\\nThis dataset was derived from the 1990 U.S. census, using one row per census\\nblock group. A block group is the smallest geographical unit for which the U.S.\\nCensus Bureau publishes sample data (a block group typically has a population\\nof 600 to 3,000 people).\\n\\nA household is a group of people residing within a home. Since the average\\nnumber of rooms and bedrooms in this dataset are provided per household, these\\ncolumns may take surprisingly large values for block groups with few households\\nand many empty houses, such as vacation resorts.\\n\\nIt can be downloaded/loaded using the\\n:func:`sklearn.datasets.fetch_california_housing` function.\\n\\n.. topic:: References\\n\\n    - Pace, R. Kelley and Ronald Barry, Sparse Spatial Autoregressions,\\n      Statistics and Probability Letters, 33 (1997) 291-297\\n'}\n"
          ]
        },
        {
          "output_type": "execute_result",
          "data": {
            "text/plain": [
              "LinearRegression()"
            ],
            "text/html": [
              "<style>#sk-container-id-1 {color: black;background-color: white;}#sk-container-id-1 pre{padding: 0;}#sk-container-id-1 div.sk-toggleable {background-color: white;}#sk-container-id-1 label.sk-toggleable__label {cursor: pointer;display: block;width: 100%;margin-bottom: 0;padding: 0.3em;box-sizing: border-box;text-align: center;}#sk-container-id-1 label.sk-toggleable__label-arrow:before {content: \"▸\";float: left;margin-right: 0.25em;color: #696969;}#sk-container-id-1 label.sk-toggleable__label-arrow:hover:before {color: black;}#sk-container-id-1 div.sk-estimator:hover label.sk-toggleable__label-arrow:before {color: black;}#sk-container-id-1 div.sk-toggleable__content {max-height: 0;max-width: 0;overflow: hidden;text-align: left;background-color: #f0f8ff;}#sk-container-id-1 div.sk-toggleable__content pre {margin: 0.2em;color: black;border-radius: 0.25em;background-color: #f0f8ff;}#sk-container-id-1 input.sk-toggleable__control:checked~div.sk-toggleable__content {max-height: 200px;max-width: 100%;overflow: auto;}#sk-container-id-1 input.sk-toggleable__control:checked~label.sk-toggleable__label-arrow:before {content: \"▾\";}#sk-container-id-1 div.sk-estimator input.sk-toggleable__control:checked~label.sk-toggleable__label {background-color: #d4ebff;}#sk-container-id-1 div.sk-label input.sk-toggleable__control:checked~label.sk-toggleable__label {background-color: #d4ebff;}#sk-container-id-1 input.sk-hidden--visually {border: 0;clip: rect(1px 1px 1px 1px);clip: rect(1px, 1px, 1px, 1px);height: 1px;margin: -1px;overflow: hidden;padding: 0;position: absolute;width: 1px;}#sk-container-id-1 div.sk-estimator {font-family: monospace;background-color: #f0f8ff;border: 1px dotted black;border-radius: 0.25em;box-sizing: border-box;margin-bottom: 0.5em;}#sk-container-id-1 div.sk-estimator:hover {background-color: #d4ebff;}#sk-container-id-1 div.sk-parallel-item::after {content: \"\";width: 100%;border-bottom: 1px solid gray;flex-grow: 1;}#sk-container-id-1 div.sk-label:hover label.sk-toggleable__label {background-color: #d4ebff;}#sk-container-id-1 div.sk-serial::before {content: \"\";position: absolute;border-left: 1px solid gray;box-sizing: border-box;top: 0;bottom: 0;left: 50%;z-index: 0;}#sk-container-id-1 div.sk-serial {display: flex;flex-direction: column;align-items: center;background-color: white;padding-right: 0.2em;padding-left: 0.2em;position: relative;}#sk-container-id-1 div.sk-item {position: relative;z-index: 1;}#sk-container-id-1 div.sk-parallel {display: flex;align-items: stretch;justify-content: center;background-color: white;position: relative;}#sk-container-id-1 div.sk-item::before, #sk-container-id-1 div.sk-parallel-item::before {content: \"\";position: absolute;border-left: 1px solid gray;box-sizing: border-box;top: 0;bottom: 0;left: 50%;z-index: -1;}#sk-container-id-1 div.sk-parallel-item {display: flex;flex-direction: column;z-index: 1;position: relative;background-color: white;}#sk-container-id-1 div.sk-parallel-item:first-child::after {align-self: flex-end;width: 50%;}#sk-container-id-1 div.sk-parallel-item:last-child::after {align-self: flex-start;width: 50%;}#sk-container-id-1 div.sk-parallel-item:only-child::after {width: 0;}#sk-container-id-1 div.sk-dashed-wrapped {border: 1px dashed gray;margin: 0 0.4em 0.5em 0.4em;box-sizing: border-box;padding-bottom: 0.4em;background-color: white;}#sk-container-id-1 div.sk-label label {font-family: monospace;font-weight: bold;display: inline-block;line-height: 1.2em;}#sk-container-id-1 div.sk-label-container {text-align: center;}#sk-container-id-1 div.sk-container {/* jupyter's `normalize.less` sets `[hidden] { display: none; }` but bootstrap.min.css set `[hidden] { display: none !important; }` so we also need the `!important` here to be able to override the default hidden behavior on the sphinx rendered scikit-learn.org. See: https://github.com/scikit-learn/scikit-learn/issues/21755 */display: inline-block !important;position: relative;}#sk-container-id-1 div.sk-text-repr-fallback {display: none;}</style><div id=\"sk-container-id-1\" class=\"sk-top-container\"><div class=\"sk-text-repr-fallback\"><pre>LinearRegression()</pre><b>In a Jupyter environment, please rerun this cell to show the HTML representation or trust the notebook. <br />On GitHub, the HTML representation is unable to render, please try loading this page with nbviewer.org.</b></div><div class=\"sk-container\" hidden><div class=\"sk-item\"><div class=\"sk-estimator sk-toggleable\"><input class=\"sk-toggleable__control sk-hidden--visually\" id=\"sk-estimator-id-1\" type=\"checkbox\" checked><label for=\"sk-estimator-id-1\" class=\"sk-toggleable__label sk-toggleable__label-arrow\">LinearRegression</label><div class=\"sk-toggleable__content\"><pre>LinearRegression()</pre></div></div></div></div></div>"
            ]
          },
          "metadata": {},
          "execution_count": 21
        }
      ]
    },
    {
      "cell_type": "code",
      "source": [
        "import matplotlib.pyplot as plt\n",
        "\n",
        "# Predict the target values\n",
        "predicted = model.predict(X)\n",
        "print(predicted)\n",
        "\n",
        "# Create a figure with a specified size of 8x6 inches\n",
        "plt.figure(figsize=(8, 6))\n",
        "\n",
        "# Scatter plot of actual vs. predicted values with transparency set to 0.5\n",
        "plt.scatter(y, predicted, alpha=0.5)\n",
        "\n",
        "# Label for x-axis\n",
        "plt.xlabel('Actual Values')\n",
        "\n",
        "# Label for y-axis\n",
        "plt.ylabel('Predicted Values')\n",
        "\n",
        "# Title for the plot\n",
        "plt.title('Actual vs. Predicted Values (California Housing)')\n",
        "\n",
        "# Display grid lines on the plot\n",
        "plt.grid(True)\n",
        "\n",
        "# Show the plot\n",
        "plt.show()\n",
        "\n",
        "# Calculate residuals (difference between actual and predicted values)\n",
        "residuals = y - predicted\n",
        "\n",
        "# Create a new figure for residuals plot with a specified size of 8x6 inches\n",
        "plt.figure(figsize=(8, 6))\n",
        "\n",
        "# Scatter plot of actual values vs. residuals with transparency set to 0.5\n",
        "plt.scatter(y, residuals, alpha=0.5)\n",
        "\n",
        "# Label for x-axis\n",
        "plt.xlabel('Actual Values')\n",
        "\n",
        "# Label for y-axis\n",
        "plt.ylabel('Residuals')\n",
        "\n",
        "# Title for the plot\n",
        "plt.title('Residuals Plot (California Housing)')\n",
        "\n",
        "# Add a horizontal line at y=0 to indicate zero residuals\n",
        "plt.axhline(y=0, color='r', linestyle='--')\n",
        "\n",
        "# Display grid lines on the plot\n",
        "plt.grid(True)\n",
        "\n",
        "# Show the plot\n",
        "plt.show()\n"
      ],
      "metadata": {
        "id": "guSkvbgy0uOj",
        "colab": {
          "base_uri": "https://localhost:8080/",
          "height": 1000
        },
        "outputId": "b516f262-8c9c-4631-89d2-0972a0207227"
      },
      "execution_count": null,
      "outputs": [
        {
          "output_type": "stream",
          "name": "stdout",
          "text": [
            "[4.13164983 3.97660644 3.67657094 ... 0.17125141 0.31910524 0.51580363]\n"
          ]
        },
        {
          "output_type": "display_data",
          "data": {
            "text/plain": [
              "<Figure size 800x600 with 1 Axes>"
            ],
            "image/png": "[encoded data removed]"
          },
          "metadata": {}
        },
        {
          "output_type": "display_data",
          "data": {
            "text/plain": [
              "<Figure size 800x600 with 1 Axes>"
            ],
            "image/png": "[encoded data removed]"
          },
          "metadata": {}
        }
      ]
    },
    {
      "cell_type": "code",
      "source": [
        "#tensorflow: An open-source machine learning framework for building and training neural networks.#\n",
        "\n",
        "import tensorflow as tf\n",
        "\n",
        "# Define a simple neural network model\n",
        "model = tf.keras.Sequential([\n",
        "    tf.keras.layers.Dense(10, input_shape=(4,), activation='relu'),\n",
        "    tf.keras.layers.Dense(1)\n",
        "])\n",
        "\n",
        "# Compile the model\n",
        "model.compile(optimizer='adam', loss='mse', metrics=['mae'])\n",
        "\n",
        "# Train the model\n",
        "model.fit(X_train, y_train, epochs=10, validation_data=(X_val, y_val))\n"
      ],
      "metadata": {
        "id": "PIb9wAQW1Ln-",
        "colab": {
          "base_uri": "https://localhost:8080/",
          "height": 176
        },
        "outputId": "fe701800-51d7-41a3-90a0-d1ab5f557b54"
      },
      "execution_count": null,
      "outputs": [
        {
          "output_type": "error",
          "ename": "NameError",
          "evalue": "name 'X_train' is not defined",
          "traceback": [
            "\u001b[0;31m---------------------------------------------------------------------------\u001b[0m",
            "\u001b[0;31mNameError\u001b[0m                                 Traceback (most recent call last)",
            "\u001b[0;32m<ipython-input-23-24dbb5d76669>\u001b[0m in \u001b[0;36m<cell line: 15>\u001b[0;34m()\u001b[0m\n\u001b[1;32m     13\u001b[0m \u001b[0;34m\u001b[0m\u001b[0m\n\u001b[1;32m     14\u001b[0m \u001b[0;31m# Train the model\u001b[0m\u001b[0;34m\u001b[0m\u001b[0;34m\u001b[0m\u001b[0m\n\u001b[0;32m---> 15\u001b[0;31m \u001b[0mmodel\u001b[0m\u001b[0;34m.\u001b[0m\u001b[0mfit\u001b[0m\u001b[0;34m(\u001b[0m\u001b[0mX_train\u001b[0m\u001b[0;34m,\u001b[0m \u001b[0my_train\u001b[0m\u001b[0;34m,\u001b[0m \u001b[0mepochs\u001b[0m\u001b[0;34m=\u001b[0m\u001b[0;36m10\u001b[0m\u001b[0;34m,\u001b[0m \u001b[0mvalidation_data\u001b[0m\u001b[0;34m=\u001b[0m\u001b[0;34m(\u001b[0m\u001b[0mX_val\u001b[0m\u001b[0;34m,\u001b[0m \u001b[0my_val\u001b[0m\u001b[0;34m)\u001b[0m\u001b[0;34m)\u001b[0m\u001b[0;34m\u001b[0m\u001b[0;34m\u001b[0m\u001b[0m\n\u001b[0m",
            "\u001b[0;31mNameError\u001b[0m: name 'X_train' is not defined"
          ]
        }
      ]
    },
    {
      "cell_type": "code",
      "source": [
        "#OpenCV: Open-source computer vision and machine learning software library.\n",
        "\n",
        "import cv2\n",
        "\n",
        "# Read an image\n",
        "image = cv2.imread('image.jpg')\n",
        "\n",
        "# Convert the image to grayscale\n",
        "gray_image = cv2.cvtColor(image, cv2.COLOR_BGR2GRAY)\n",
        "\n",
        "# Display the grayscale image\n",
        "cv2.imshow('Grayscale Image', gray_image)\n",
        "cv2.waitKey(0)\n"
      ],
      "metadata": {
        "id": "JyX_Z5741Whr"
      },
      "execution_count": null,
      "outputs": []
    },
    {
      "cell_type": "code",
      "source": [
        "import cv2\n",
        "import numpy as np\n",
        "from google.colab.patches import cv2_imshow\n",
        "\n",
        "# Create a NumPy array representing a grayscale image\n",
        "height, width = 200, 300\n",
        "gray_image = np.zeros((height, width), dtype=np.uint8)\n",
        "\n",
        "# Draw a white rectangle on the image\n",
        "cv2.rectangle(gray_image, (50, 50), (250, 150), (255),thickness = -1)\n",
        "\n",
        "# Display the image\n",
        "# cv2.imshow('Grayscale Image', gray_image)\n",
        "cv2_imshow( gray_image)\n",
        "cv2.waitKey(0)\n",
        "cv2.destroyAllWindows()\n"
      ],
      "metadata": {
        "id": "iw1vLB2f3MJy",
        "colab": {
          "base_uri": "https://localhost:8080/",
          "height": 217
        },
        "outputId": "4c70a668-e03a-4681-c99e-4bf0379320a2"
      },
      "execution_count": null,
      "outputs": [
        {
          "output_type": "display_data",
          "data": {
            "text/plain": [
              "<PIL.Image.Image image mode=L size=300x200>"
            ],
            "image/png": "[encoded data removed]"
          },
          "metadata": {}
        }
      ]
    },
    {
      "cell_type": "code",
      "source": [
        "from google.colab.patches import cv2_imshow\n",
        "\n",
        "# Resize the image\n",
        "resized_image = cv2.resize(gray_image, (400, 300))\n",
        "\n",
        "# Apply Gaussian blur to the resized image\n",
        "blurred_image = cv2.GaussianBlur(resized_image, (5, 5), 0)\n",
        "\n",
        "# Display the resized and blurred images\n",
        "cv2_imshow( resized_image)\n",
        "cv2_imshow( blurred_image)\n",
        "cv2.waitKey(0)\n",
        "cv2.destroyAllWindows()\n"
      ],
      "metadata": {
        "id": "NndH6vFC3ps8",
        "colab": {
          "base_uri": "https://localhost:8080/",
          "height": 617
        },
        "outputId": "419632e9-f71d-4608-9d23-7636abf4ea59"
      },
      "execution_count": null,
      "outputs": [
        {
          "output_type": "display_data",
          "data": {
            "text/plain": [
              "<PIL.Image.Image image mode=L size=400x300>"
            ],
            "image/png": "[encoded data removed]"
          },
          "metadata": {}
        },
        {
          "output_type": "display_data",
          "data": {
            "text/plain": [
              "<PIL.Image.Image image mode=L size=400x300>"
            ],
            "image/png": "[encoded data removed]"
          },
          "metadata": {}
        }
      ]
    },
    {
      "cell_type": "code",
      "source": [
        "#Pillow (PIL): Python Imaging Library adds image processing capabilities to your Python interpreter.\n",
        "\n",
        "from PIL import Image\n",
        "\n",
        "# Open an image file\n",
        "img = Image.open('image.jpg')\n",
        "\n",
        "# Convert the image to grayscale\n",
        "gray_img = img.convert('L')\n",
        "\n",
        "# Display the grayscale image\n",
        "gray_img.show()\n"
      ],
      "metadata": {
        "id": "1OQb8p1t1iqm",
        "colab": {
          "base_uri": "https://localhost:8080/",
          "height": 332
        },
        "outputId": "e5971739-3464-49d9-8e98-51663586b1c1"
      },
      "execution_count": null,
      "outputs": [
        {
          "output_type": "error",
          "ename": "FileNotFoundError",
          "evalue": "[Errno 2] No such file or directory: 'image.jpg'",
          "traceback": [
            "\u001b[0;31m---------------------------------------------------------------------------\u001b[0m",
            "\u001b[0;31mFileNotFoundError\u001b[0m                         Traceback (most recent call last)",
            "\u001b[0;32m<ipython-input-30-95d870484f3f>\u001b[0m in \u001b[0;36m<cell line: 6>\u001b[0;34m()\u001b[0m\n\u001b[1;32m      4\u001b[0m \u001b[0;34m\u001b[0m\u001b[0m\n\u001b[1;32m      5\u001b[0m \u001b[0;31m# Open an image file\u001b[0m\u001b[0;34m\u001b[0m\u001b[0;34m\u001b[0m\u001b[0m\n\u001b[0;32m----> 6\u001b[0;31m \u001b[0mimg\u001b[0m \u001b[0;34m=\u001b[0m \u001b[0mImage\u001b[0m\u001b[0;34m.\u001b[0m\u001b[0mopen\u001b[0m\u001b[0;34m(\u001b[0m\u001b[0;34m'image.jpg'\u001b[0m\u001b[0;34m)\u001b[0m\u001b[0;34m\u001b[0m\u001b[0;34m\u001b[0m\u001b[0m\n\u001b[0m\u001b[1;32m      7\u001b[0m \u001b[0;34m\u001b[0m\u001b[0m\n\u001b[1;32m      8\u001b[0m \u001b[0;31m# Convert the image to grayscale\u001b[0m\u001b[0;34m\u001b[0m\u001b[0;34m\u001b[0m\u001b[0m\n",
            "\u001b[0;32m/usr/local/lib/python3.10/dist-packages/PIL/Image.py\u001b[0m in \u001b[0;36mopen\u001b[0;34m(fp, mode, formats)\u001b[0m\n\u001b[1;32m   3225\u001b[0m \u001b[0;34m\u001b[0m\u001b[0m\n\u001b[1;32m   3226\u001b[0m     \u001b[0;32mif\u001b[0m \u001b[0mfilename\u001b[0m\u001b[0;34m:\u001b[0m\u001b[0;34m\u001b[0m\u001b[0;34m\u001b[0m\u001b[0m\n\u001b[0;32m-> 3227\u001b[0;31m         \u001b[0mfp\u001b[0m \u001b[0;34m=\u001b[0m \u001b[0mbuiltins\u001b[0m\u001b[0;34m.\u001b[0m\u001b[0mopen\u001b[0m\u001b[0;34m(\u001b[0m\u001b[0mfilename\u001b[0m\u001b[0;34m,\u001b[0m \u001b[0;34m\"rb\"\u001b[0m\u001b[0;34m)\u001b[0m\u001b[0;34m\u001b[0m\u001b[0;34m\u001b[0m\u001b[0m\n\u001b[0m\u001b[1;32m   3228\u001b[0m         \u001b[0mexclusive_fp\u001b[0m \u001b[0;34m=\u001b[0m \u001b[0;32mTrue\u001b[0m\u001b[0;34m\u001b[0m\u001b[0;34m\u001b[0m\u001b[0m\n\u001b[1;32m   3229\u001b[0m \u001b[0;34m\u001b[0m\u001b[0m\n",
            "\u001b[0;31mFileNotFoundError\u001b[0m: [Errno 2] No such file or directory: 'image.jpg'"
          ]
        }
      ]
    },
    {
      "cell_type": "code",
      "source": [
        "! pip install nltk"
      ],
      "metadata": {
        "colab": {
          "base_uri": "https://localhost:8080/"
        },
        "id": "MF1k_P719ev7",
        "outputId": "878c7e25-7d46-4726-a27b-6cbb3927b975"
      },
      "execution_count": null,
      "outputs": [
        {
          "output_type": "stream",
          "name": "stdout",
          "text": [
            "Requirement already satisfied: nltk in /usr/local/lib/python3.10/dist-packages (3.8.1)\n",
            "Requirement already satisfied: click in /usr/local/lib/python3.10/dist-packages (from nltk) (8.1.7)\n",
            "Requirement already satisfied: joblib in /usr/local/lib/python3.10/dist-packages (from nltk) (1.3.2)\n",
            "Requirement already satisfied: regex>=2021.8.3 in /usr/local/lib/python3.10/dist-packages (from nltk) (2023.12.25)\n",
            "Requirement already satisfied: tqdm in /usr/local/lib/python3.10/dist-packages (from nltk) (4.66.2)\n"
          ]
        }
      ]
    },
    {
      "cell_type": "code",
      "source": [
        "#NLTK (Natural Language Toolkit): A leading platform for building Python programs to work with human language data.\n",
        "\n",
        "import nltk\n",
        "nltk.download('punkt')\n",
        "from nltk.tokenize import word_tokenize\n",
        "\n",
        "# Tokenize a sentence\n",
        "sentence = \"NLTK is a leading platform for building Python programs to work with human language data.\"\n",
        "tokens = word_tokenize(sentence)\n",
        "\n",
        "# Print the tokens\n",
        "print(tokens)\n"
      ],
      "metadata": {
        "id": "88SYXn0j1q1E",
        "colab": {
          "base_uri": "https://localhost:8080/"
        },
        "outputId": "5e4284ba-f8fa-463e-e77b-cd07aa84933f"
      },
      "execution_count": null,
      "outputs": [
        {
          "output_type": "stream",
          "name": "stderr",
          "text": [
            "[nltk_data] Downloading package punkt to /root/nltk_data...\n",
            "[nltk_data]   Unzipping tokenizers/punkt.zip.\n"
          ]
        },
        {
          "output_type": "stream",
          "name": "stdout",
          "text": [
            "['NLTK', 'is', 'a', 'leading', 'platform', 'for', 'building', 'Python', 'programs', 'to', 'work', 'with', 'human', 'language', 'data', '.']\n"
          ]
        }
      ]
    },
    {
      "cell_type": "markdown",
      "source": [
        "# Section 6: Input and Output"
      ],
      "metadata": {
        "id": "W55VXeUo2hqL"
      }
    },
    {
      "cell_type": "code",
      "source": [
        "name = \"Alice\"\n",
        "age = 30\n",
        "\n",
        "# String formatting using the format() method\n",
        "print(\"Name: {}, Age: {}\".format(name, age))\n",
        "\n",
        "# F-strings (formatted string literals)\n",
        "print(f\"Name: {name}, Age: {age}\")\n"
      ],
      "metadata": {
        "id": "W9Ur11Hl2ljQ",
        "colab": {
          "base_uri": "https://localhost:8080/"
        },
        "outputId": "db73e91c-2dbc-4e53-a70d-f030613ec34d"
      },
      "execution_count": null,
      "outputs": [
        {
          "output_type": "stream",
          "name": "stdout",
          "text": [
            "Name: Alice, Age: 30\n",
            "Name: Alice, Age: 30\n"
          ]
        }
      ]
    },
    {
      "cell_type": "code",
      "source": [
        "# Writing to a text file\n",
        "data = \"Hello, world!\\nThis is a test file.\"\n",
        "with open(\"example.txt\", \"w\") as file:\n",
        "    file.write(data)\n",
        "\n"
      ],
      "metadata": {
        "id": "W2-ejaZr2or0"
      },
      "execution_count": null,
      "outputs": []
    },
    {
      "cell_type": "code",
      "source": [
        "# Reading from a text file\n",
        "with open(\"example.txt\", \"r\") as file:\n",
        "    data = file.read()\n",
        "    print(data)\n"
      ],
      "metadata": {
        "id": "6rz-2H8v25iK",
        "colab": {
          "base_uri": "https://localhost:8080/"
        },
        "outputId": "0e0d25a7-c3a2-449f-e493-2ec69fcd42de"
      },
      "execution_count": null,
      "outputs": [
        {
          "output_type": "stream",
          "name": "stdout",
          "text": [
            "Hello, world!\n",
            "This is a test file.\n"
          ]
        }
      ]
    },
    {
      "cell_type": "markdown",
      "source": [
        "# Section 7 : Errors"
      ],
      "metadata": {
        "id": "f37-2UnE4WLE"
      }
    },
    {
      "cell_type": "code",
      "source": [
        "# Syntax error example\n",
        "print(\"Hello, world!)\n",
        "\n",
        "# Exception example (ZeroDivisionError)\n",
        "result = 10 / 0\n"
      ],
      "metadata": {
        "id": "du5WO6bt4Y10",
        "colab": {
          "base_uri": "https://localhost:8080/",
          "height": 106
        },
        "outputId": "824ea3e7-f643-4e3f-ca87-207cb18eeaf6"
      },
      "execution_count": null,
      "outputs": [
        {
          "output_type": "error",
          "ename": "SyntaxError",
          "evalue": "unterminated string literal (detected at line 2) (<ipython-input-38-06cc0d287e91>, line 2)",
          "traceback": [
            "\u001b[0;36m  File \u001b[0;32m\"<ipython-input-38-06cc0d287e91>\"\u001b[0;36m, line \u001b[0;32m2\u001b[0m\n\u001b[0;31m    print(\"Hello, world!)\u001b[0m\n\u001b[0m          ^\u001b[0m\n\u001b[0;31mSyntaxError\u001b[0m\u001b[0;31m:\u001b[0m unterminated string literal (detected at line 2)\n"
          ]
        }
      ]
    },
    {
      "cell_type": "code",
      "source": [
        "# Exception example (ZeroDivisionError)\n",
        "result = 10 / 0"
      ],
      "metadata": {
        "id": "7gK5-r5Z4jR6"
      },
      "execution_count": null,
      "outputs": []
    },
    {
      "cell_type": "code",
      "source": [
        "# Handling exception example\n",
        "try:\n",
        "    result = 10 / 0\n",
        "except ZeroDivisionError:\n",
        "    print(\"Error: Division by zero!\")\n"
      ],
      "metadata": {
        "id": "VbNrG_Kp4eNr",
        "colab": {
          "base_uri": "https://localhost:8080/"
        },
        "outputId": "324b3a67-4dbd-42ca-cc11-999407158b45"
      },
      "execution_count": null,
      "outputs": [
        {
          "output_type": "stream",
          "name": "stdout",
          "text": [
            "Error: Division by zero!\n"
          ]
        }
      ]
    },
    {
      "cell_type": "code",
      "source": [
        "# Raising exception example\n",
        "x = -1\n",
        "if x < 0:\n",
        "    raise ValueError(\"x cannot be negative\")\n"
      ],
      "metadata": {
        "id": "c0XK-jpL4lgV",
        "colab": {
          "base_uri": "https://localhost:8080/",
          "height": 176
        },
        "outputId": "48f1eb13-bce1-44e7-e45d-dec9294ed890"
      },
      "execution_count": null,
      "outputs": [
        {
          "output_type": "error",
          "ename": "ValueError",
          "evalue": "x cannot be negative",
          "traceback": [
            "\u001b[0;31m---------------------------------------------------------------------------\u001b[0m",
            "\u001b[0;31mValueError\u001b[0m                                Traceback (most recent call last)",
            "\u001b[0;32m<ipython-input-40-90390e2de892>\u001b[0m in \u001b[0;36m<cell line: 3>\u001b[0;34m()\u001b[0m\n\u001b[1;32m      2\u001b[0m \u001b[0mx\u001b[0m \u001b[0;34m=\u001b[0m \u001b[0;34m-\u001b[0m\u001b[0;36m1\u001b[0m\u001b[0;34m\u001b[0m\u001b[0;34m\u001b[0m\u001b[0m\n\u001b[1;32m      3\u001b[0m \u001b[0;32mif\u001b[0m \u001b[0mx\u001b[0m \u001b[0;34m<\u001b[0m \u001b[0;36m0\u001b[0m\u001b[0;34m:\u001b[0m\u001b[0;34m\u001b[0m\u001b[0;34m\u001b[0m\u001b[0m\n\u001b[0;32m----> 4\u001b[0;31m     \u001b[0;32mraise\u001b[0m \u001b[0mValueError\u001b[0m\u001b[0;34m(\u001b[0m\u001b[0;34m\"x cannot be negative\"\u001b[0m\u001b[0;34m)\u001b[0m\u001b[0;34m\u001b[0m\u001b[0;34m\u001b[0m\u001b[0m\n\u001b[0m",
            "\u001b[0;31mValueError\u001b[0m: x cannot be negative"
          ]
        }
      ]
    },
    {
      "cell_type": "code",
      "source": [
        "# Defining clean-up actions example\n",
        "try:\n",
        "    file = open(\"example.txt\", \"r\")\n",
        "    # Perform file operations\n",
        "finally:\n",
        "    file.close()\n",
        "    print(\"File closed successfully\")\n"
      ],
      "metadata": {
        "id": "gcrisgy64qxi",
        "colab": {
          "base_uri": "https://localhost:8080/"
        },
        "outputId": "30b766a2-8082-4a2a-b3aa-b90acfc4c6dd"
      },
      "execution_count": null,
      "outputs": [
        {
          "output_type": "stream",
          "name": "stdout",
          "text": [
            "File closed successfully\n"
          ]
        }
      ]
    },
    {
      "cell_type": "code",
      "source": [
        "# Predefined clean-up actions example (using with statement)\n",
        "with open(\"example.txt\", \"r\") as file:\n",
        "    # Perform file operations\n",
        "    pass  # No need to explicitly close the file, it will be closed automatically\n"
      ],
      "metadata": {
        "id": "HHk3PyZI40ii"
      },
      "execution_count": null,
      "outputs": []
    },
    {
      "cell_type": "markdown",
      "source": [
        "# Section 8 : Classes and Objects\n",
        "\n",
        "##Class:\n",
        "A class in Python is a blueprint for creating objects. It defines the properties (attributes) and behaviors (methods) that objects of that class will have. Classes are used to create user-defined data types.\n",
        "\n",
        "##Object:\n",
        "An object in Python is an instance of a class. It represents a specific instance of the class and encapsulates its own data (attributes) and behavior (methods). Objects are created using the constructor of the class."
      ],
      "metadata": {
        "id": "KqiLTrtj5SkQ"
      }
    },
    {
      "cell_type": "markdown",
      "source": [
        "## Scope , Global and Local"
      ],
      "metadata": {
        "id": "xRy_zDe-5gfd"
      }
    },
    {
      "cell_type": "code",
      "source": [
        "x = 42                   # Global variable x\n",
        "def my_function():\n",
        "    x = 21               # Local variable x within the function\n",
        "    print(x)             # Output: 21\n",
        "my_function()\n",
        "print(x)                 # Output: 42 (global x)\n"
      ],
      "metadata": {
        "id": "VOhIbl1p5oUk"
      },
      "execution_count": null,
      "outputs": []
    },
    {
      "cell_type": "markdown",
      "source": [
        "## Classes"
      ],
      "metadata": {
        "id": "hi47hCTt5tMK"
      }
    },
    {
      "cell_type": "code",
      "source": [
        "class MyClass:           # Define a class MyClass\n",
        "    def __init__(self, constant):\n",
        "        self.value = constant\n",
        "    def print_value(self):\n",
        "        print(self.value)\n",
        "obj = MyClass(42)        # Create an instance of MyClass\n",
        "obj.print_value()        # Output: 42\n"
      ],
      "metadata": {
        "id": "SAlNdjmo5vTV"
      },
      "execution_count": null,
      "outputs": []
    },
    {
      "cell_type": "code",
      "source": [],
      "metadata": {
        "id": "9FtlewtX_sHZ"
      },
      "execution_count": null,
      "outputs": []
    },
    {
      "cell_type": "code",
      "source": [
        "class MyClass:\n",
        "    def __init__(self, value):\n",
        "        self.__value = value\n",
        "    def get_value(self):\n",
        "        return self.__value\n",
        "obj = MyClass(42)\n",
        "print(obj.get_value())\n",
        "#print(obj.__value)\n"
      ],
      "metadata": {
        "id": "08ISgiaD6Sw1",
        "colab": {
          "base_uri": "https://localhost:8080/"
        },
        "outputId": "6445fdd8-5c8d-4f34-a9cf-c7cf352a3590"
      },
      "execution_count": null,
      "outputs": [
        {
          "output_type": "stream",
          "name": "stdout",
          "text": [
            "42\n"
          ]
        }
      ]
    },
    {
      "cell_type": "code",
      "source": [
        "class Person:\n",
        "    def __init__(self, f_name, last_name, age, gender, email):\n",
        "        self.first_name = f_name\n",
        "        self.last_name = last_name\n",
        "        self.age = age\n",
        "        self.gender = gender\n",
        "        self.email = email\n",
        "\n",
        "    def get_full_name(self):\n",
        "        return f\"{self.first_name} {self.last_name}\"\n",
        "\n",
        "    def get_email_domain(self):\n",
        "        return self.email.split('@')[-1]\n",
        "\n",
        "    def update_info(self, first_name=None, last_name=None, age=None, gender=None, email=None):\n",
        "        if first_name:\n",
        "            self.first_name = first_name\n",
        "        if last_name:\n",
        "            self.last_name = last_name\n",
        "        if age is not None:\n",
        "            self.age = age\n",
        "        if gender:\n",
        "            self.gender = gender\n",
        "        if email:\n",
        "            self.email = email\n",
        "\n",
        "    def __str__(self):\n",
        "        return f\"{self.get_full_name()}, Age: {self.age}, Gender: {self.gender}, Email: {self.email}\"\n",
        "\n",
        "\n",
        "\n",
        "person1 = Person('John', 'Doe', 30, 'Male', 'john.doe@example.com')\n",
        "\n",
        "print(person1)                          # Output: John Doe, Age: 30, Gender: Male, Email: john.doe@example.com\n",
        "\n",
        "\n",
        "person1.update_info(age=35, email='john.newemail@example.com')\n",
        "\n",
        "\n",
        "print(person1)                          # Output: John Doe, Age: 35, Gender: Male, Email: john.newemail@example.com\n"
      ],
      "metadata": {
        "id": "8UvqJZRn7BCE",
        "colab": {
          "base_uri": "https://localhost:8080/"
        },
        "outputId": "d396e552-d85d-4200-be39-3ee442daeaac"
      },
      "execution_count": null,
      "outputs": [
        {
          "output_type": "stream",
          "name": "stdout",
          "text": [
            "John Doe, Age: 30, Gender: Male, Email: john.doe@example.com\n",
            "John Doe, Age: 35, Gender: Male, Email: john.newemail@example.com\n"
          ]
        }
      ]
    },
    {
      "cell_type": "code",
      "source": [
        "class Car:\n",
        "    def __init__(self, make, model, year):\n",
        "        self.make = make\n",
        "        self.model = model\n",
        "        self.year = year\n",
        "        self.odometer_reading = 0\n",
        "\n",
        "    def get_descriptive_name(self):\n",
        "        return f\"{self.year} {self.make} {self.model}\"\n",
        "\n",
        "    def read_odometer(self):\n",
        "        return f\"This car has {self.odometer_reading} miles on it.\"\n",
        "\n",
        "    def update_odometer(self, mileage):\n",
        "        if mileage >= self.odometer_reading:\n",
        "            self.odometer_reading = mileage\n",
        "        else:\n",
        "            print(\"You can't roll back an odometer!\")\n",
        "\n",
        "    def increment_odometer(self, miles):\n",
        "        self.odometer_reading += miles\n",
        "\n",
        "\n",
        "# Creating an instance of the Car class\n",
        "my_car = Car('Toyota', 'Corolla', 2020)\n",
        "\n",
        "# Accessing attributes and calling methods of the instance\n",
        "print(my_car.get_descriptive_name())  # Output: 2020 Toyota Corolla\n",
        "print(my_car.read_odometer())         # Output: This car has 0 miles on it.\n",
        "\n",
        "# Modifying attributes through methods\n",
        "my_car.update_odometer(100)\n",
        "print(my_car.read_odometer())         # Output: This car has 100 miles on it.\n",
        "\n",
        "# Incrementing attribute value\n",
        "my_car.increment_odometer(50)\n",
        "print(my_car.read_odometer())         # Output: This car has 150 miles on it.\n"
      ],
      "metadata": {
        "id": "Cvt8KYhZ6JGW"
      },
      "execution_count": null,
      "outputs": []
    },
    {
      "cell_type": "code",
      "source": [
        "class ParentClass:       # Define a parent class\n",
        "    def __init__(self, x):\n",
        "        self.x = x\n",
        "\n",
        "\n",
        "class ChildClass(ParentClass):  # Define a child class inheriting from ParentClass\n",
        "    def __init__(self, x, y):\n",
        "        super().__init__(x)      # Call the parent class's constructor\n",
        "        self.y = y\n",
        "obj = ChildClass(42, 21)        # Create an instance of ChildClass\n",
        "print(obj.x)                    # Output: 42\n",
        "print(obj.y)                    # Output: 21\n"
      ],
      "metadata": {
        "id": "9emWUIHp7Rj2",
        "colab": {
          "base_uri": "https://localhost:8080/"
        },
        "outputId": "ccbdca7e-1a32-40f9-b203-d0a1302fb2f8"
      },
      "execution_count": null,
      "outputs": [
        {
          "output_type": "stream",
          "name": "stdout",
          "text": [
            "42\n",
            "21\n"
          ]
        }
      ]
    }
  ]
}